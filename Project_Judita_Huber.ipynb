{
 "cells": [
  {
   "cell_type": "markdown",
   "metadata": {
    "collapsed": true
   },
   "source": [
    "# Judi's Project\n",
    "This project is using the publicly available data from the Human Connectome Project (HCP)\n",
    "\n",
    "Data available here: https://db.humanconnectome.org\n",
    "Data dictionary available here: https://wiki.humanconnectome.org/display/PublicData/HCP+Data+Dictionary+Public-+500+Subject+Release?src=contextnavpagetreemode\n",
    "\n",
    "Test whether performance differences in a line orientation task are explained:  \n",
    "*) gender\n",
    "*) characteristics of hippocampus (area, volume, surface) \n",
    "\n",
    "For this: \n",
    "*) extract appropriate data and save in pandas data frame\n",
    "*) plot distribution of spatial orientation performance\n",
    "*) create score for left and right hippocampal area for each person\n",
    "*) normalise hippocampal area for each person\n",
    "*) plot all possible combinations\n",
    "*) check assumptions\n",
    "*) linear regression \n",
    "\n",
    "NECESSARY:\n",
    "\n",
    "    load source data from a file [X]\n",
    "    plot at least one histogram of the data, with title and labelled axes [X]\n",
    "    create at least one plot of analysis results, with title and labelled axes\n",
    "    use at least one numpy array [X]\n",
    "    use short but descriptive variable names in your code [X}\n",
    "    document your code: use markdown in your .ipynb and/or directly comment your python code with # or ''' or \"\"\" [X]\n",
    "\n",
    "MINIMUM OF SIX:\n",
    "\n",
    "    use an if-elif-else clause\n",
    "    use a for loop [X}\n",
    "    use a while loop\n",
    "    write at least one function, include a docstring\n",
    "    print out some results in at least one nicely formatted string, using string operator % or .format() method\n",
    "    use at least one vectorized math operation on an array [X]\n",
    "    use at least one matrix operation on a 2D array\n",
    "    create a figure with multiple axes (i.e., use plt.subplots(nrows, ncols))\n",
    "    do a statistical test - show that the test assumptions hold for your data \n",
    "    manipulate and analyze data in a pandas series or dataframe [X]\n",
    "    use an image processing algorithm\n",
    "    use a clustering algorithm\n",
    "    use some other non-trivial algorithm: e.g. regression, curve fitting, signal analysis… [X]\n",
    "    version control your code using git: create a local repository and make at least 5 commits while developing your code [X]\n"
   ]
  },
  {
   "cell_type": "code",
   "execution_count": null,
   "metadata": {
    "collapsed": true
   },
   "outputs": [],
   "source": [
    "#Load packages required\n",
    "import numpy as np\n",
    "import pandas as pd\n",
    "import matplotlib.pyplot as plt\n",
    "import seaborn as sns\n",
    "import scipy.stats as stats\n",
    "%matplotlib inline\n"
   ]
  },
  {
   "cell_type": "code",
   "execution_count": null,
   "metadata": {
    "collapsed": false
   },
   "outputs": [],
   "source": [
    "#Load data from source file\n",
    "HCP_data = pd.read_csv('C:/Users/Judi/Documents/Project_HCP/unrestricted_jhuber_6_23_2017_7_25_10.csv')\n",
    "#HCP_data = pd.read_csv('C:/Users/Judita/HCP_Data/unrestricted_jhuber_7_24_2017_4_28_55.csv')\n",
    "HCP_data.shape"
   ]
  },
  {
   "cell_type": "code",
   "execution_count": null,
   "metadata": {
    "collapsed": false
   },
   "outputs": [],
   "source": [
    "#Group data by Gender\n",
    "gender_grouping = HCP_data.groupby('Gender')"
   ]
  },
  {
   "cell_type": "code",
   "execution_count": null,
   "metadata": {
    "collapsed": false
   },
   "outputs": [],
   "source": [
    "#plot at least one histogram of the data, with title and labelled axes\n",
    "gender_hist = gender_grouping.VSPLOT_TC.hist(bins=15)\n",
    "plt.xlabel(\"Variable Short Penn Line Orientation: Total Number Correct (VSPLOT_TC)\")\n",
    "plt.ylabel(\"frequency\")\n",
    "plt.title(\"Line Orientation task performance by gender\")\n",
    "plt.legend(('female', 'male'))\n"
   ]
  },
  {
   "cell_type": "code",
   "execution_count": null,
   "metadata": {
    "collapsed": false
   },
   "outputs": [],
   "source": [
    "#select appropriate columns (i.e. gender, age, task performance and hippocampal & temporal lobe information)\n",
    "filter_col = [col for col in HCP_data.columns \n",
    "            if col.startswith('FS_L_Parahippocampal') | \n",
    "            col.startswith('FS_R_Parahippocampal') |\n",
    "            col.startswith('FS_L_Hipp') | \n",
    "            col.startswith('FS_R_Hipp') |\n",
    "            col.startswith('Age') |\n",
    "            col.startswith('VSPLOT_TC') |\n",
    "            col.startswith('Gender')  |\n",
    "             col.startswith('FS_SubCort_GM')]\n",
    "filter_col\n",
    "\n"
   ]
  },
  {
   "cell_type": "code",
   "execution_count": null,
   "metadata": {
    "collapsed": true
   },
   "outputs": [],
   "source": [
    "#filter data \n",
    "HCP_data_f = HCP_data[filter_col] #use filter in data frame to select specified columns\n"
   ]
  },
  {
   "cell_type": "code",
   "execution_count": null,
   "metadata": {
    "collapsed": false
   },
   "outputs": [],
   "source": []
  },
  {
   "cell_type": "code",
   "execution_count": null,
   "metadata": {
    "collapsed": false
   },
   "outputs": [],
   "source": [
    "#filter data \n",
    "HCP_data_f = HCP_data[filter_col] #use filter in data frame to select specified columns\n",
    "\n",
    "#exclude empty entries (otherwise get error message later)\n",
    "HCP_data_f = HCP_data_f[~HCP_data_f.FS_L_Hippo_Vol.isnull()]\n",
    "HCP_data_f = HCP_data_f[~HCP_data_f.FS_R_Hippo_Vol.isnull()]\n",
    "HCP_data_f = HCP_data_f[~HCP_data_f.FS_SubCort_GM_Vol.isnull()]\n",
    "HCP_data_f = HCP_data_f[~HCP_data_f.VSPLOT_TC.isnull()]\n",
    "HCP_data_f.shape #check that correct shape \n",
    "\n",
    "\n"
   ]
  },
  {
   "cell_type": "code",
   "execution_count": null,
   "metadata": {
    "collapsed": false
   },
   "outputs": [],
   "source": [
    "#create composite scores to determine \n",
    "# *) total hippocampal volume \n",
    "# *) normalised hippocampal volume \n",
    "\n",
    "#normalise hippocampal volume by dividing by total subcortical grey matter volume\n",
    "FS_L_Hippo_Vol_norm = np.array(HCP_data_f.FS_L_Hippo_Vol / HCP_data_f.FS_SubCort_GM_Vol) #left hippocampus\n",
    "FS_R_Hippo_Vol_norm = np.array(HCP_data_f.FS_R_Hippo_Vol / HCP_data_f.FS_SubCort_GM_Vol) #right hippocampus\n",
    "FS_R_Hippo_Vol_norm.size\n",
    "\n",
    "#calculate total hippocampal volume\n",
    "FS_HPCvol_sum = np.array(HCP_data_f.FS_R_Hippo_Vol + HCP_data_f.FS_L_Hippo_Vol)\n",
    "#calculate total normalised hippocampal volume\n",
    "FS_HPCvol_sum_norm = np.array(FS_HPCvol_sum / HCP_data_f.FS_SubCort_GM_Vol)\n",
    "\n",
    "#include arrays in data frame\n",
    "HCP_data_f['FS_L_Hippo_Vol_norm'] = FS_L_Hippo_Vol_norm\n",
    "HCP_data_f['FS_R_Hippo_Vol_norm'] = FS_R_Hippo_Vol_norm\n",
    "HCP_data_f['FS_HPCvol_sum'] = FS_HPCvol_sum\n",
    "HCP_data_f['FS_HPCvol_sum_norm'] = HCP_data_f.FS_HPCvol_sum / HCP_data.FS_SubCort_GM_Vol \n",
    "\n",
    "#check\n",
    "HCP_data_f.shape \n",
    "\n"
   ]
  },
  {
   "cell_type": "code",
   "execution_count": null,
   "metadata": {
    "collapsed": false
   },
   "outputs": [],
   "source": [
    "#create at least one plot of analysis results, with title and labelled axes\n",
    "sns.set(style=\"ticks\")\n",
    "sns.pairplot(HCP_data_f,  dropna=True, hue = \"Gender\")"
   ]
  },
  {
   "cell_type": "code",
   "execution_count": null,
   "metadata": {
    "collapsed": true
   },
   "outputs": [],
   "source": [
    "# write own function"
   ]
  },
  {
   "cell_type": "code",
   "execution_count": null,
   "metadata": {
    "collapsed": false
   },
   "outputs": [],
   "source": [
    "from statsmodels.formula.api import ols\n",
    "model = ols(\"VSPLOT_TC ~  FS_HPCvol_sum * Gender\", HCP_data_f).fit()\n",
    "print(model.summary())"
   ]
  },
  {
   "cell_type": "code",
   "execution_count": null,
   "metadata": {
    "collapsed": false
   },
   "outputs": [],
   "source": [
    "sns.pairplot(HCP_data_f, vars=['VSPLOT_TC', 'FS_HPCvol_sum_norm', 'FS_HPCvol_sum'], kind='reg', hue = 'Gender')  "
   ]
  },
  {
   "cell_type": "code",
   "execution_count": null,
   "metadata": {
    "collapsed": true
   },
   "outputs": [],
   "source": []
  },
  {
   "cell_type": "code",
   "execution_count": null,
   "metadata": {
    "collapsed": false
   },
   "outputs": [],
   "source": []
  },
  {
   "cell_type": "code",
   "execution_count": null,
   "metadata": {
    "collapsed": true
   },
   "outputs": [],
   "source": []
  }
 ],
 "metadata": {
  "kernelspec": {
   "display_name": "Python 3",
   "language": "python",
   "name": "python3"
  },
  "language_info": {
   "codemirror_mode": {
    "name": "ipython",
    "version": 3
   },
   "file_extension": ".py",
   "mimetype": "text/x-python",
   "name": "python",
   "nbconvert_exporter": "python",
   "pygments_lexer": "ipython3",
   "version": "3.6.0"
  }
 },
 "nbformat": 4,
 "nbformat_minor": 2
}
