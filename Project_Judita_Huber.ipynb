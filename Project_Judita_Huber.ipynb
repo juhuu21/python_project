{
 "cells": [
  {
   "cell_type": "markdown",
   "metadata": {
    "collapsed": true
   },
   "source": [
    "# Judi's Project\n",
    "This project is using the publicly available data from the Human Connectome Project (HCP)\n",
    "Data dictionary available here: https://wiki.humanconnectome.org/display/PublicData/HCP+Data+Dictionary+Public-+500+Subject+Release?src=contextnavpagetreemode\n",
    "\n",
    "(Correlate some cognitive performance with human brain image properties from DTI & fMRI studies , e.g memory/spatial test with HPC)\n",
    "\n",
    "Test whether performance differences in a spatial orientation task are explained:  \n",
    "*) gender\n",
    "*) hipocampal volume \n",
    "\n",
    "Aims: \n",
    "*) characterise spatial orientation performance\n",
    "\n",
    "*****\n",
    "Aims: \n",
    "    * Characterise HPC properties (e.g. volume/surface), correlated with verbal episodic memory & VSPLOT (for loop?)  \n",
    "    * characterise total score verbal episodic memory for M/F\n",
    "    * Determine if there is a relationship between HPC properties & verbal episodic memory (ie. regression + check assumptions)\n",
    "    \n"
   ]
  },
  {
   "cell_type": "code",
   "execution_count": null,
   "metadata": {
    "collapsed": true
   },
   "outputs": [],
   "source": [
    "#Load packages required\n",
    "import numpy as np\n",
    "import pandas as pd\n",
    "import matplotlib.pyplot as plt\n",
    "import seaborn as sns\n",
    "%matplotlib inline\n"
   ]
  },
  {
   "cell_type": "code",
   "execution_count": null,
   "metadata": {
    "collapsed": false
   },
   "outputs": [],
   "source": [
    "#Load data from source file\n",
    "HCP_data = pd.read_csv('C:/Users/Judi/Documents/Project_HCP/unrestricted_jhuber_6_23_2017_7_25_10.csv')\n",
    "#HCP_data = pd.read_csv('C:/Users/Judita/HCP_Data/unrestricted_jhuber_7_24_2017_4_28_55.csv')\n",
    "\n",
    "HCP_data.shape"
   ]
  },
  {
   "cell_type": "code",
   "execution_count": null,
   "metadata": {
    "collapsed": false
   },
   "outputs": [],
   "source": [
    "gender_grouping = HCP_data.groupby('Gender')\n",
    "gender_grouping.head()"
   ]
  },
  {
   "cell_type": "code",
   "execution_count": null,
   "metadata": {
    "collapsed": true
   },
   "outputs": [],
   "source": []
  },
  {
   "cell_type": "code",
   "execution_count": null,
   "metadata": {
    "collapsed": false
   },
   "outputs": [],
   "source": [
    "#plot at least one histogram of the data, with title and labelled axes\n",
    "gender_hist = gender_grouping.IWRD_TOT.hist(bins=10)\n",
    "#plt.Axes.set_xlabel('label')\n",
    "plt.xlabel(\"IWRD\")\n",
    "plt.ylabel(\"frequency\")\n",
    "plt.title(\"FIRST PLOT\")\n",
    "plt.legend(())\n",
    "\n",
    "#PLOT SEVERAL TESTS"
   ]
  },
  {
   "cell_type": "code",
   "execution_count": null,
   "metadata": {
    "collapsed": false
   },
   "outputs": [],
   "source": [
    "HCP_data.columns"
   ]
  },
  {
   "cell_type": "code",
   "execution_count": null,
   "metadata": {
    "collapsed": false
   },
   "outputs": [],
   "source": [
    "# select hippocampal & temporal lobe information\n",
    "\n",
    "#select appropriate columns\n",
    "filter_col = [col for col in HCP_data.columns \n",
    "            if col.startswith('FS_L_Parahippocampal') | \n",
    "            col.startswith('FS_R_Parahippocampal') |\n",
    "            col.startswith('FS_L_Hipp') | \n",
    "            col.startswith('FS_R_Hipp') |\n",
    "            col.startswith('Age') |\n",
    "            col.startswith('IWRD_TOT') |\n",
    "            col.startswith('VSPLOT_TC') |\n",
    "            col.startswith('Gender')] \n",
    "filter_col\n",
    "\n"
   ]
  },
  {
   "cell_type": "code",
   "execution_count": null,
   "metadata": {
    "collapsed": false
   },
   "outputs": [],
   "source": [
    "HCP_data_f = HCP_data[filter_col] #use filter in data frame to select specified columns\n",
    "HCP_data_f = HCP_data_f[~HCP_data_f.FS_L_Hippo_Vol.isnull()]\n",
    "HCP_data_f = HCP_data_f[~HCP_data_f.IWRD_TOT.isnull()]\n",
    "#new_FS = HCP_data_f[~HCP_data_f.FS_HPCvol_sum_norm.isnull()]\n",
    "HCP_data_f.shape #check that correct shape \n",
    "#HCP_data_f_m.shape #check that correct shape \n"
   ]
  },
  {
   "cell_type": "code",
   "execution_count": null,
   "metadata": {
    "collapsed": false
   },
   "outputs": [],
   "source": [
    "HCP_data_f"
   ]
  },
  {
   "cell_type": "code",
   "execution_count": null,
   "metadata": {
    "collapsed": false
   },
   "outputs": [],
   "source": [
    "#create composite scores as well (matrix operations!) \n",
    "\n",
    "#normalise volume by supratentorial volume \n",
    "HCP_data_f['FS_L_Hippo_Vol_norm'] = HCP_data_f.FS_L_Hippo_Vol / HCP_data.FS_SupraTentorial_Vol *100\n",
    "HCP_data_f['FS_R_Hippo_Vol_norm'] = HCP_data_f.FS_R_Hippo_Vol / HCP_data.FS_SupraTentorial_Vol *100\n",
    "HCP_data_f['FS_HPCvol_sum'] = HCP_data_f.FS_R_Hippo_Vol + HCP_data_f.FS_L_Hippo_Vol *100\n",
    "\n",
    "HCP_data_f['FS_HPCvol_sum_norm'] = HCP_data_f.FS_HPCvol_sum / HCP_data.FS_SupraTentorial_Vol *100\n",
    "HCP_data_f.head() "
   ]
  },
  {
   "cell_type": "code",
   "execution_count": null,
   "metadata": {
    "collapsed": false,
    "scrolled": true
   },
   "outputs": [],
   "source": [
    "HCP_data_f.plot.scatter(x='VSPLOT_TC', y='FS_R_Hippo_Vol')\n"
   ]
  },
  {
   "cell_type": "code",
   "execution_count": null,
   "metadata": {
    "collapsed": true
   },
   "outputs": [],
   "source": [
    "#create at least one plot of analysis results, with title and labelled axes"
   ]
  },
  {
   "cell_type": "code",
   "execution_count": null,
   "metadata": {
    "collapsed": false
   },
   "outputs": [],
   "source": [
    "sns.set(style=\"ticks\")\n",
    "\n",
    "sns.pairplot(HCP_data_f,  dropna=True, hue = \"Age\")"
   ]
  },
  {
   "cell_type": "code",
   "execution_count": null,
   "metadata": {
    "collapsed": true
   },
   "outputs": [],
   "source": [
    "# write own function"
   ]
  },
  {
   "cell_type": "code",
   "execution_count": null,
   "metadata": {
    "collapsed": true
   },
   "outputs": [],
   "source": [
    "#use at least one numpy array"
   ]
  },
  {
   "cell_type": "markdown",
   "metadata": {},
   "source": [
    "    use an if-elif-else clause\n",
    "    use a for loop\n",
    "    use a while loop\n",
    "    write at least one function, include a docstring\n",
    "    print out some results in at least one nicely formatted string, using string operator % or .format() method\n",
    "    use at least one vectorized math operation on an array\n",
    "    use at least one matrix operation on a 2D array\n",
    "    create a figure with multiple axes (i.e., use plt.subplots(nrows, ncols))\n",
    "    do a statistical test - show that the test assumptions hold for your data\n",
    "    manipulate and analyze data in a pandas series or dataframe\n",
    "    use an image processing algorithm\n",
    "    use a clustering algorithm\n",
    "    use some other non-trivial algorithm: e.g. regression, curve fitting, signal analysis…\n",
    "    version control your code using git: create a local repository and make at least 5 commits while developing your code\n"
   ]
  },
  {
   "cell_type": "code",
   "execution_count": null,
   "metadata": {
    "collapsed": true
   },
   "outputs": [],
   "source": [
    "# select which variable "
   ]
  },
  {
   "cell_type": "code",
   "execution_count": null,
   "metadata": {
    "collapsed": false
   },
   "outputs": [],
   "source": []
  },
  {
   "cell_type": "code",
   "execution_count": null,
   "metadata": {
    "collapsed": true
   },
   "outputs": [],
   "source": []
  }
 ],
 "metadata": {
  "kernelspec": {
   "display_name": "Python 3",
   "language": "python",
   "name": "python3"
  },
  "language_info": {
   "codemirror_mode": {
    "name": "ipython",
    "version": 3
   },
   "file_extension": ".py",
   "mimetype": "text/x-python",
   "name": "python",
   "nbconvert_exporter": "python",
   "pygments_lexer": "ipython3",
   "version": "3.6.0"
  }
 },
 "nbformat": 4,
 "nbformat_minor": 2
}
